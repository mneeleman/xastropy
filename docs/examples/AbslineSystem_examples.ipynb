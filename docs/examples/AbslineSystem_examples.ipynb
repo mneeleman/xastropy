{
 "cells": [
  {
   "cell_type": "markdown",
   "metadata": {},
   "source": [
    "# Examples for AbslineSystem Class (v1.0)"
   ]
  },
  {
   "cell_type": "code",
   "execution_count": 1,
   "metadata": {
    "collapsed": false
   },
   "outputs": [],
   "source": [
    "# imports\n",
    "import imp\n",
    "from astropy.coordinates import SkyCoord\n",
    "\n",
    "from xastropy.igm.abs_sys import ionclms as xionc\n",
    "from xastropy.igm.abs_sys import abssys_utils as xabsys\n",
    "\n",
    "from linetools.spectralline import AbsLine\n",
    "from linetools.lists.linelist import LineList\n",
    "\n",
    "xa_path = imp.find_module('xastropy')[1]"
   ]
  },
  {
   "cell_type": "markdown",
   "metadata": {},
   "source": [
    "## Simple instantiation"
   ]
  },
  {
   "cell_type": "code",
   "execution_count": 2,
   "metadata": {
    "collapsed": false
   },
   "outputs": [],
   "source": [
    "reload(xabsys)\n",
    "gensys = xabsys.GenericAbsSystem(NHI=16., zabs=1.244)\n",
    "gensys.coord = SkyCoord(ra=123.1143*u.deg, dec=-12.4321*u.deg)"
   ]
  },
  {
   "cell_type": "code",
   "execution_count": 3,
   "metadata": {
    "collapsed": false
   },
   "outputs": [
    {
     "data": {
      "text/plain": [
       "[AbslineSystem: Foo Generic 08:12:27.432 -12:25:55.56, z=1.244, NHI=16]"
      ]
     },
     "execution_count": 3,
     "metadata": {},
     "output_type": "execute_result"
    }
   ],
   "source": [
    "gensys"
   ]
  },
  {
   "cell_type": "markdown",
   "metadata": {},
   "source": [
    "### Add some absorption lines"
   ]
  },
  {
   "cell_type": "code",
   "execution_count": 4,
   "metadata": {
    "collapsed": false
   },
   "outputs": [
    {
     "name": "stderr",
     "output_type": "stream",
     "text": [
      "WARNING: UnitsWarning: The unit 'Angstrom' has been deprecated in the FITS standard. Suggested: nm (with data multiplied by 0.1). [astropy.units.format.utils]\n",
      "WARNING:astropy:UnitsWarning: The unit 'Angstrom' has been deprecated in the FITS standard. Suggested: nm (with data multiplied by 0.1).\n"
     ]
    },
    {
     "name": "stdout",
     "output_type": "stream",
     "text": [
      "linetools.lists.parse: Reading linelist --- \n",
      "   /Users/xavier/local/Python/linetools/linetools/data/lines/morton03_table2.fits.gz\n",
      "linetools.lists.parse: Reading linelist --- \n",
      "   /Users/xavier/local/Python/linetools/linetools/data/lines/morton00_table2.fits.gz\n",
      "linetools.lists.parse: Reading linelist --- \n",
      "   /Users/xavier/local/Python/linetools/linetools/data/lines/verner94_tab6.fits\n"
     ]
    }
   ],
   "source": [
    "ism = LineList('ISM')"
   ]
  },
  {
   "cell_type": "code",
   "execution_count": 5,
   "metadata": {
    "collapsed": false
   },
   "outputs": [
    {
     "data": {
      "text/plain": [
       "[[AbsLine: HI 1215, wrest=1215.6700 Angstrom],\n",
       " [AbsLine: CII 1334, wrest=1334.5323 Angstrom],\n",
       " [AbsLine: SiII 1808, wrest=1808.0129 Angstrom]]"
      ]
     },
     "execution_count": 5,
     "metadata": {},
     "output_type": "execute_result"
    }
   ],
   "source": [
    "few_lines = [1215.6700, 1334.5323, 1808.0129]*u.AA\n",
    "for ilin in few_lines:\n",
    "    gensys.lines.append(AbsLine(ilin,linelist=ism))\n",
    "gensys.lines"
   ]
  },
  {
   "cell_type": "markdown",
   "metadata": {},
   "source": [
    "### Grab a lines matching a given transition"
   ]
  },
  {
   "cell_type": "code",
   "execution_count": 6,
   "metadata": {
    "collapsed": false
   },
   "outputs": [
    {
     "data": {
      "text/plain": [
       "[AbsLine: HI 1215, wrest=1215.6700 Angstrom]"
      ]
     },
     "execution_count": 6,
     "metadata": {},
     "output_type": "execute_result"
    }
   ],
   "source": [
    "Lya = gensys[1215.670*u.AA]\n",
    "Lya[0]"
   ]
  },
  {
   "cell_type": "markdown",
   "metadata": {},
   "source": [
    "## Fill with IonClms"
   ]
  },
  {
   "cell_type": "code",
   "execution_count": 7,
   "metadata": {
    "collapsed": false
   },
   "outputs": [],
   "source": [
    "allfil = xa_path+'/igm/abs_sys/tests/files/UM184.z2929_MAGE.all'\n",
    "gensys._ionclms = xionc.IonClms(all_file=allfil)"
   ]
  },
  {
   "cell_type": "code",
   "execution_count": 8,
   "metadata": {
    "collapsed": false
   },
   "outputs": [
    {
     "data": {
      "text/plain": [
       "{'Z': 14,\n",
       " 'clm': 13.699999999999999,\n",
       " 'flg_clm': 1,\n",
       " 'flg_inst': 16,\n",
       " 'ion': 2,\n",
       " 'lines': [<Quantity 1808.0129 Angstrom>],\n",
       " 'sig_clm': 0.045999999999999999}"
      ]
     },
     "execution_count": 8,
     "metadata": {},
     "output_type": "execute_result"
    }
   ],
   "source": [
    "gensys['SiII']"
   ]
  },
  {
   "cell_type": "code",
   "execution_count": 9,
   "metadata": {
    "collapsed": false
   },
   "outputs": [
    {
     "data": {
      "text/plain": [
       "{'Z': 14,\n",
       " 'clm': 13.699999999999999,\n",
       " 'flg_clm': 1,\n",
       " 'flg_inst': 16,\n",
       " 'ion': 2,\n",
       " 'lines': [<Quantity 1808.0129 Angstrom>],\n",
       " 'sig_clm': 0.045999999999999999}"
      ]
     },
     "execution_count": 9,
     "metadata": {},
     "output_type": "execute_result"
    }
   ],
   "source": [
    "gensys[(14,2)]"
   ]
  },
  {
   "cell_type": "code",
   "execution_count": null,
   "metadata": {
    "collapsed": true
   },
   "outputs": [],
   "source": []
  }
 ],
 "metadata": {
  "kernelspec": {
   "display_name": "Python 2",
   "language": "python",
   "name": "python2"
  },
  "language_info": {
   "codemirror_mode": {
    "name": "ipython",
    "version": 2
   },
   "file_extension": ".py",
   "mimetype": "text/x-python",
   "name": "python",
   "nbconvert_exporter": "python",
   "pygments_lexer": "ipython2",
   "version": "2.7.9"
  }
 },
 "nbformat": 4,
 "nbformat_minor": 0
}
