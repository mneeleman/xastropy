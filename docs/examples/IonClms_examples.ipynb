{
 "cells": [
  {
   "cell_type": "markdown",
   "metadata": {},
   "source": [
    "# Example Usage of IonClms Class (v1.0)"
   ]
  },
  {
   "cell_type": "code",
   "execution_count": 48,
   "metadata": {
    "collapsed": false
   },
   "outputs": [],
   "source": [
    "# imports\n",
    "import imp\n",
    "from xastropy.igm.abs_sys import ionclms as xionc\n",
    "from xastropy.atomic.elements import ELEMENTS\n",
    "from xastropy.atomic import ionization as xai\n",
    "from xastropy.outils import roman\n",
    "\n",
    "xa_path = imp.find_module('xastropy')[1]"
   ]
  },
  {
   "cell_type": "markdown",
   "metadata": {},
   "source": [
    "## Instantiate with .all file"
   ]
  },
  {
   "cell_type": "code",
   "execution_count": 64,
   "metadata": {
    "collapsed": false
   },
   "outputs": [],
   "source": [
    "reload(xionc)\n",
    "allfil = xa_path+'/igm/abs_sys/tests/files/UM184.z2929_MAGE.all'\n",
    "ions = xionc.IonClms(all_file=allfil)"
   ]
  },
  {
   "cell_type": "code",
   "execution_count": 58,
   "metadata": {
    "collapsed": false
   },
   "outputs": [
    {
     "data": {
      "text/plain": [
       "[IonClms]\n",
       "<Table masked=False length=14>\n",
       "  Z    ion    clm   sig_clm flg_clm flg_inst\n",
       "int64 int64 float64 float64  int64   int64  \n",
       "----- ----- ------- ------- ------- --------\n",
       "    1     1   0.467   0.015       1        0\n",
       "    6     1  13.091     0.0       3       16\n",
       "    6     2  14.004   0.038       1        8\n",
       "    6     4    13.9   0.019       1       16\n",
       "    8     1  14.162   0.059       1        8\n",
       "   13     2  12.591    0.06       1        8\n",
       "   13     3  12.752     0.0       3       16\n",
       "   14     2    13.7   0.046       1       16\n",
       "   14     4  13.517    0.03       1        8\n",
       "   16     2  14.411     0.0       3       24\n",
       "   24     2  13.366     0.0       3        8\n",
       "   26     2  13.512     0.0       3        8\n",
       "   28     2  13.632     0.0       3       32\n",
       "   30     2  12.601     0.0       3        8"
      ]
     },
     "execution_count": 58,
     "metadata": {},
     "output_type": "execute_result"
    }
   ],
   "source": [
    "ions"
   ]
  },
  {
   "cell_type": "markdown",
   "metadata": {},
   "source": [
    "## Accessing data on a given ion"
   ]
  },
  {
   "cell_type": "code",
   "execution_count": 59,
   "metadata": {
    "collapsed": false
   },
   "outputs": [
    {
     "data": {
      "text/plain": [
       "{'Z': 14,\n",
       " 'clm': 13.699999999999999,\n",
       " 'flg_clm': 1,\n",
       " 'flg_inst': 16,\n",
       " 'ion': 2,\n",
       " 'sig_clm': 0.045999999999999999}"
      ]
     },
     "execution_count": 59,
     "metadata": {},
     "output_type": "execute_result"
    }
   ],
   "source": [
    "reload(xionc)\n",
    "ions['SiII']"
   ]
  },
  {
   "cell_type": "code",
   "execution_count": 61,
   "metadata": {
    "collapsed": false
   },
   "outputs": [
    {
     "data": {
      "text/plain": [
       "{'Z': 14,\n",
       " 'clm': 13.699999999999999,\n",
       " 'flg_clm': 1,\n",
       " 'flg_inst': 16,\n",
       " 'ion': 2,\n",
       " 'sig_clm': 0.045999999999999999}"
      ]
     },
     "execution_count": 61,
     "metadata": {},
     "output_type": "execute_result"
    }
   ],
   "source": [
    "ions[(14,2)]"
   ]
  },
  {
   "cell_type": "markdown",
   "metadata": {},
   "source": [
    "## Grabbing a column of the data"
   ]
  },
  {
   "cell_type": "code",
   "execution_count": 68,
   "metadata": {
    "collapsed": false
   },
   "outputs": [
    {
     "data": {
      "text/plain": [
       "array([ 1,  6,  6,  6,  8, 13, 13, 14, 14, 16, 24, 26, 28, 30])"
      ]
     },
     "execution_count": 68,
     "metadata": {},
     "output_type": "execute_result"
    }
   ],
   "source": [
    "ions.Z"
   ]
  }
 ],
 "metadata": {
  "kernelspec": {
   "display_name": "Python 2",
   "language": "python",
   "name": "python2"
  },
  "language_info": {
   "codemirror_mode": {
    "name": "ipython",
    "version": 2
   },
   "file_extension": ".py",
   "mimetype": "text/x-python",
   "name": "python",
   "nbconvert_exporter": "python",
   "pygments_lexer": "ipython2",
   "version": "2.7.9"
  }
 },
 "nbformat": 4,
 "nbformat_minor": 0
}
