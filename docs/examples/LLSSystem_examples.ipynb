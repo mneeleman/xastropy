{
 "cells": [
  {
   "cell_type": "markdown",
   "metadata": {},
   "source": [
    "# Examples for the LLSSystem Class (v1.0)"
   ]
  },
  {
   "cell_type": "code",
   "execution_count": 1,
   "metadata": {
    "collapsed": false
   },
   "outputs": [],
   "source": [
    "# imports\n",
    "from xastropy.igm.abs_sys import lls_utils as xlu"
   ]
  },
  {
   "cell_type": "markdown",
   "metadata": {},
   "source": [
    "## Simple Instantiate"
   ]
  },
  {
   "cell_type": "code",
   "execution_count": 5,
   "metadata": {
    "collapsed": false
   },
   "outputs": [
    {
     "data": {
      "text/plain": [
       "[LLSSystem: 00:00:00 +00:00:00, z=0, NHI=17.9, tau=5.03537, [M/H]=0dex]"
      ]
     },
     "execution_count": 5,
     "metadata": {},
     "output_type": "execute_result"
    }
   ],
   "source": [
    "reload(xlu)\n",
    "lls = xlu.LLSSystem(NHI=17.9)\n",
    "lls"
   ]
  },
  {
   "cell_type": "markdown",
   "metadata": {},
   "source": [
    "## From a JXP .dat file (to be Deprecated)"
   ]
  },
  {
   "cell_type": "code",
   "execution_count": 2,
   "metadata": {
    "collapsed": false
   },
   "outputs": [
    {
     "name": "stderr",
     "output_type": "stream",
     "text": [
      "WARNING: AstropyDeprecationWarning: Passing a frame as a positional argument is now deprecated, use the frame= keyword argument instead. [astropy.coordinates.sky_coordinate]\n",
      "WARNING:astropy:AstropyDeprecationWarning: Passing a frame as a positional argument is now deprecated, use the frame= keyword argument instead.\n"
     ]
    },
    {
     "data": {
      "text/plain": [
       "[LLSSystem: 23:50:57.87 -00:52:09.9, z=2.93012, NHI=18.5, tau=20.0462, [M/H]=0dex]"
      ]
     },
     "execution_count": 2,
     "metadata": {},
     "output_type": "execute_result"
    }
   ],
   "source": [
    "reload(xlu)\n",
    "datfil = 'Data/UM184.z2929.dat'\n",
    "lls = xlu.LLSSystem(dat_file=datfil, tree=os.getenv('LLSTREE'))\n",
    "lls"
   ]
  },
  {
   "cell_type": "markdown",
   "metadata": {},
   "source": [
    "### Load up ions"
   ]
  },
  {
   "cell_type": "code",
   "execution_count": 4,
   "metadata": {
    "collapsed": false
   },
   "outputs": [
    {
     "name": "stdout",
     "output_type": "stream",
     "text": [
      "WARNING: Using 1560.6820 Angstrom for your input 1560.3092 Angstrom\n",
      "WARNING: Using 1560.6820 Angstrom for your input 1560.3092 Angstrom\n",
      "read_ion_file: Removing line 1560.68 Angstrom\n",
      "WARNING: Using 1657.0081 Angstrom for your input 1656.9283 Angstrom\n",
      "WARNING: Using 1657.0081 Angstrom for your input 1656.9283 Angstrom\n",
      "read_ion_file: Removing line 1657.01 Angstrom\n",
      "read_ion_file: Removing line 1334.53 Angstrom\n",
      "read_ion_file: Removing line 1548.19 Angstrom\n",
      "read_ion_file: Removing line 1550.77 Angstrom\n",
      "read_ion_file: Removing line 1302.17 Angstrom\n",
      "read_ion_file: Removing line 1670.79 Angstrom\n",
      "read_ion_file: Removing line 1854.72 Angstrom\n",
      "read_ion_file: Removing line 1862.79 Angstrom\n",
      "read_ion_file: Removing line 1304.37 Angstrom\n",
      "read_ion_file: Removing line 1526.71 Angstrom\n",
      "read_ion_file: Removing line 1808.01 Angstrom\n",
      "read_ion_file: Removing line 1393.76 Angstrom\n",
      "read_ion_file: Removing line 1402.77 Angstrom\n",
      "WARNING: Using 1250.5780 Angstrom for your input 1250.5840 Angstrom\n",
      "WARNING: Using 1250.5780 Angstrom for your input 1250.5840 Angstrom\n",
      "read_ion_file: Removing line 1250.58 Angstrom\n",
      "WARNING: Using 1253.8050 Angstrom for your input 1253.8110 Angstrom\n",
      "WARNING: Using 1253.8050 Angstrom for your input 1253.8110 Angstrom\n",
      "read_ion_file: Removing line 1253.81 Angstrom\n",
      "read_ion_file: Removing line 1259.52 Angstrom\n",
      "read_ion_file: Removing line 2056.25 Angstrom\n",
      "read_ion_file: Removing line 1608.45 Angstrom\n",
      "read_ion_file: Removing line 1317.22 Angstrom\n",
      "read_ion_file: Removing line 1370.13 Angstrom\n",
      "read_ion_file: Removing line 1454.84 Angstrom\n",
      "read_ion_file: Removing line 1741.55 Angstrom\n",
      "read_ion_file: Removing line 2026.14 Angstrom\n"
     ]
    }
   ],
   "source": [
    "lls.get_ions()"
   ]
  },
  {
   "cell_type": "code",
   "execution_count": 5,
   "metadata": {
    "collapsed": false
   },
   "outputs": [
    {
     "data": {
      "text/plain": [
       "[[AbsLine: CI* 1560, wrest=1560.6820 Angstrom],\n",
       " [AbsLine: CI** 1657, wrest=1657.0081 Angstrom],\n",
       " [AbsLine: CII 1334, wrest=1334.5323 Angstrom],\n",
       " [AbsLine: CIV 1548, wrest=1548.1950 Angstrom],\n",
       " [AbsLine: CIV 1550, wrest=1550.7700 Angstrom],\n",
       " [AbsLine: OI 1302, wrest=1302.1685 Angstrom],\n",
       " [AbsLine: AlII 1670, wrest=1670.7874 Angstrom],\n",
       " [AbsLine: AlIII 1854, wrest=1854.7164 Angstrom],\n",
       " [AbsLine: AlIII 1862, wrest=1862.7895 Angstrom],\n",
       " [AbsLine: SiII 1304, wrest=1304.3702 Angstrom],\n",
       " [AbsLine: SiII 1526, wrest=1526.7070 Angstrom],\n",
       " [AbsLine: SiII 1808, wrest=1808.0129 Angstrom],\n",
       " [AbsLine: SiIV 1393, wrest=1393.7550 Angstrom],\n",
       " [AbsLine: SiIV 1402, wrest=1402.7700 Angstrom],\n",
       " [AbsLine: SII 1250, wrest=1250.5780 Angstrom],\n",
       " [AbsLine: SII 1253, wrest=1253.8050 Angstrom],\n",
       " [AbsLine: SII 1259, wrest=1259.5180 Angstrom],\n",
       " [AbsLine: CrII 2056, wrest=2056.2540 Angstrom],\n",
       " [AbsLine: FeII 1608, wrest=1608.4511 Angstrom],\n",
       " [AbsLine: NiII 1317, wrest=1317.2170 Angstrom],\n",
       " [AbsLine: NiII 1370, wrest=1370.1320 Angstrom],\n",
       " [AbsLine: NiII 1454, wrest=1454.8420 Angstrom],\n",
       " [AbsLine: NiII 1741, wrest=1741.5531 Angstrom],\n",
       " [AbsLine: ZnII 2026, wrest=2026.1370 Angstrom]]"
      ]
     },
     "execution_count": 5,
     "metadata": {},
     "output_type": "execute_result"
    }
   ],
   "source": [
    "lls.lines"
   ]
  },
  {
   "cell_type": "code",
   "execution_count": null,
   "metadata": {
    "collapsed": true
   },
   "outputs": [],
   "source": []
  }
 ],
 "metadata": {
  "kernelspec": {
   "display_name": "Python 2",
   "language": "python",
   "name": "python2"
  },
  "language_info": {
   "codemirror_mode": {
    "name": "ipython",
    "version": 2
   },
   "file_extension": ".py",
   "mimetype": "text/x-python",
   "name": "python",
   "nbconvert_exporter": "python",
   "pygments_lexer": "ipython2",
   "version": "2.7.9"
  }
 },
 "nbformat": 4,
 "nbformat_minor": 0
}
