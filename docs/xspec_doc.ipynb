{
 "cells": [
  {
   "cell_type": "markdown",
   "metadata": {},
   "source": [
    "# xspec Documentation (v1.1.1)\n",
    "\n",
    "This ipython Notebook is intended to provide documentation for the xastropy GUI named XSpecGUI.\n",
    "\n",
    "Enjoy and feel free to suggest edits/additions, etc."
   ]
  },
  {
   "cell_type": "markdown",
   "metadata": {},
   "source": [
    "<img width=800, align=\"left\", src=\"images/OI_SiII.png\" />"
   ]
  },
  {
   "cell_type": "markdown",
   "metadata": {},
   "source": [
    "## Python Dependencies"
   ]
  },
  {
   "cell_type": "markdown",
   "metadata": {},
   "source": [
    "Here are the list of Python dependencies that I know of:\n",
    "* numpy\n",
    "* astropy (latest release; best to clone from github)\n",
    "* specutils (latest release; best to clone from github)\n",
    "* PyQt4\n",
    "* xastropy (duh; unfortunately this might have some extra dependencies..)\n",
    "    * Download from github.  I'd suggest you fork me\n",
    "    * https://github.com/profxj/xastropy"
   ]
  },
  {
   "cell_type": "markdown",
   "metadata": {},
   "source": [
    "## Spectral File"
   ]
  },
  {
   "cell_type": "markdown",
   "metadata": {},
   "source": [
    "### The module readwrite.py reads in many formats into a Spectrum1D Class.  This includes:\n",
    "* LowRedux output\n",
    "* HIRedux 1D output\n",
    "* HST formats\n",
    "* MagE, ESI, etc.\n",
    "\n",
    "gzipped files are perfectly fine\n",
    "\n",
    "### Generically, the following data formats (all FITS files) are supported:\n",
    "1. Flux in *f.fits or *F.fits file\n",
    "    * Wavelengths are parsed from the header\n",
    "    * A neighboring *e.fits (or *E.fits) file is searched for and input as Error if found\n",
    "1. Flux, Error, Wavelength in multi-extension FITS file\n",
    "1. Flux, Error, Wavelength in a Binary Table (extension=1)\n",
    "    * Supported Flux tags: ['SPEC', 'FLUX','FLAM','FX', 'FLUXSTIS', 'FLUX_OPT', 'fl']\n",
    "    * Supported Error tags: ['ERROR','ERR','SIGMA_FLUX','FLAM_SIG', 'SIGMA_UP', 'ERRSTIS', 'FLUXERR', 'er']\n",
    "    * Supported Ivar tags: ['IVAR', 'IVAR_OPT']\n",
    "    * Supported Wavelength tags: ['WAVE','WAVELENGTH','LAMBDA','LOGLAM', 'WAVESTIS', 'WAVE_OPT', 'wa']"
   ]
  },
  {
   "cell_type": "markdown",
   "metadata": {},
   "source": [
    "### The spectrum file used below is part of the xastropy documentation."
   ]
  },
  {
   "cell_type": "code",
   "execution_count": 1,
   "metadata": {
    "collapsed": false
   },
   "outputs": [],
   "source": [
    "import imp\n",
    "xa_path = imp.find_module('xastropy')[1]\n",
    "spec_fil = xa_path+'/../docs/data/UM669_nF.fits.gz'"
   ]
  },
  {
   "cell_type": "markdown",
   "metadata": {},
   "source": [
    "## Launching the GUI"
   ]
  },
  {
   "cell_type": "markdown",
   "metadata": {},
   "source": [
    "I recommend the command line approach, but you can launch from ipython too.\n"
   ]
  },
  {
   "cell_type": "markdown",
   "metadata": {},
   "source": [
    "### From within ipython or equivalent"
   ]
  },
  {
   "cell_type": "markdown",
   "metadata": {
    "collapsed": false
   },
   "source": [
    "    from xastropy.xguis import spec_guis as xxsg\n",
    "    \n",
    "    reload(xxsg)\n",
    "    xxsg.run_xspec(spec_fil)"
   ]
  },
  {
   "cell_type": "markdown",
   "metadata": {},
   "source": [
    "### From the command line (recommended)"
   ]
  },
  {
   "cell_type": "markdown",
   "metadata": {},
   "source": [
    "I recommend you generate an alias like this:\n",
    "\n",
    "    alias xspec 'python ~/xastropy/xastropy/xguis/spec_guis.py 1'\n",
    "\n",
    "Then it is as simple as:\n",
    "\n",
    "    > xspec filename \n",
    "    \n",
    "Here are the current command-line options:    \n",
    "\n",
    "    > xspec -h\n",
    "    usage: spec_guis.py [-h] [-zsys ZSYS] [--un_norm] flag file\n",
    "\n",
    "    Parse for XSpec\n",
    "\n",
    "    positional arguments:\n",
    "      flag        GUI flag (ignored)\n",
    "      file        Spectral file\n",
    "\n",
    "    optional arguments:\n",
    "      -h, --help  show this help message and exit\n",
    "      -zsys ZSYS  System Redshift\n",
    "      --un_norm   Spectrum is NOT normalized"
   ]
  },
  {
   "cell_type": "markdown",
   "metadata": {},
   "source": [
    "---\n",
    "## Navigating - These key strokes help you explore the documenation (be sure to click in the spectrum first!)\n",
    "\n",
    "### Setting the window edges\n",
    "* l -- Set left edge of window\n",
    "* r -- Set right edge of window\n",
    "* t -- Set top edge of window\n",
    "* b -- Set bottom edge of window\n",
    "* Z -- Set bottom edge to 0.\n",
    "* W -- View full spectrum\n",
    "\n",
    "### Zoom in/out Wavelength\n",
    "* i -- Zoom in on cursor \n",
    "* I -- Zoom in extra fast\n",
    "* o -- Zoom out\n",
    "* O -- Zoom out extra fast\n",
    "\n",
    "### Zoom out Flux\n",
    "* Y -- Zoom out\n",
    "\n",
    "### Pan\n",
    "* [ -- Pan left\n",
    "* { -- Pan left extra\n",
    "* ] -- Pan right\n",
    "* } -- Pan right extra\n",
    "\n",
    "\n"
   ]
  },
  {
   "cell_type": "markdown",
   "metadata": {},
   "source": [
    "---\n",
    "## Overlaying Line Lists\n",
    "You can overlay a series of vertical lines at standard spectral\n",
    "lines at any given redshift.\n",
    "\n",
    "### Setting the Line List\n",
    "You must choose a line-list by clicking one.\n",
    "\n",
    "### Setting the redshift\n",
    "* Type one in \n",
    "* RMB on a spectral feature (Ctrl-click on Emulated 3-button)\n",
    "    * Choose the rest wavelength\n",
    "\n",
    "### Marking Doublets\n",
    "* C -- CIV\n",
    "* M -- MgII\n",
    "* X -- OVI\n",
    "* 4 -- SiIV\n",
    "* 8 -- NeVIII\n",
    "* B -- Lyb/Lya\n",
    "\n",
    "### Velocity plot\n",
    "Once a line list and redshift are set, type 'v'\n",
    "to launch a Velocity Plot GUI."
   ]
  },
  {
   "cell_type": "markdown",
   "metadata": {},
   "source": [
    "---\n",
    "## Simple Analysis\n",
    "\n",
    "\n",
    "### Equivalent Width\n",
    "You can measure the rest EW of a spectral feature as follows:\n",
    "1. Click \"E\" at the continuum at one edge of the feature\n",
    "1. And then another \"E\" at the other edge (also at the continuum)\n",
    "1. A simple boxcar integration is performed and reported\n",
    "\n",
    "### Apparent Column Density\n",
    "You can measure the apparent column via AODM as follows:\n",
    "1. Click \"N\" at the continuum at one edge of the feature\n",
    "1. And then another \"EN\" at the other edge (also at the continuum)\n",
    "1. A simple AODM integration is performed and reported\n",
    "\n",
    "### Ly$\\alpha$ Lines\n",
    "* \"D\" - Plot a DLA with $N_{\\rm HI} = 10^{20.3} \\rm cm^{-2}$\n",
    "* \"R\" - Plot a SLLS with $N_{\\rm HI} = 10^{19} \\rm cm^{-2}$"
   ]
  },
  {
   "cell_type": "code",
   "execution_count": null,
   "metadata": {
    "collapsed": true
   },
   "outputs": [],
   "source": []
  }
 ],
 "metadata": {
  "kernelspec": {
   "display_name": "Python 2",
   "language": "python",
   "name": "python2"
  },
  "language_info": {
   "codemirror_mode": {
    "name": "ipython",
    "version": 2
   },
   "file_extension": ".py",
   "mimetype": "text/x-python",
   "name": "python",
   "nbconvert_exporter": "python",
   "pygments_lexer": "ipython2",
   "version": "2.7.9"
  }
 },
 "nbformat": 4,
 "nbformat_minor": 0
}
