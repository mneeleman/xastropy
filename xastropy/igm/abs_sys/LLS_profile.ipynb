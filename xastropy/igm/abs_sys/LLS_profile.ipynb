{
 "cells": [
  {
   "cell_type": "markdown",
   "metadata": {},
   "source": [
    "# LLS Profiling"
   ]
  },
  {
   "cell_type": "code",
   "execution_count": 3,
   "metadata": {
    "collapsed": true
   },
   "outputs": [],
   "source": [
    "#import\n",
    "import pstats"
   ]
  },
  {
   "cell_type": "markdown",
   "metadata": {},
   "source": [
    "## Read\n",
    "Set flg_test = 2**11 in lls_utils.py"
   ]
  },
  {
   "cell_type": "code",
   "execution_count": 2,
   "metadata": {
    "collapsed": false
   },
   "outputs": [],
   "source": [
    "#python -m cProfile -o lls_profile.dat lls_utils.py"
   ]
  },
  {
   "cell_type": "code",
   "execution_count": 18,
   "metadata": {
    "collapsed": false
   },
   "outputs": [],
   "source": [
    "p = pstats.Stats('lls_profile.dat')\n",
    "#p.strip_dirs().sort_stats(-1).print_stats()"
   ]
  },
  {
   "cell_type": "code",
   "execution_count": 19,
   "metadata": {
    "collapsed": false
   },
   "outputs": [
    {
     "name": "stdout",
     "output_type": "stream",
     "text": [
      "Wed May 13 15:04:43 2015    lls_profile.dat\n",
      "\n",
      "         18972531 function calls (18624185 primitive calls) in 16.542 seconds\n",
      "\n",
      "   Ordered by: cumulative time\n",
      "   List reduced from 6476 to 30 due to restriction <30>\n",
      "\n",
      "   ncalls  tottime  percall  cumtime  percall filename:lineno(function)\n",
      "        1    0.005    0.005   16.555   16.555 lls_utils.py:12(<module>)\n",
      "        1    0.000    0.000   14.199   14.199 lls_utils.py:370(profile_read)\n",
      "        1    0.000    0.000   10.707   10.707 /Users/xavier/xastropy/xastropy/igm/abs_sys/abs_survey.py:104(fill_ions)\n",
      "      165    0.002    0.000   10.706    0.065 /Users/xavier/xastropy/xastropy/igm/abs_sys/lls_utils.py:119(get_ions)\n",
      "     3295    0.291    0.000    9.800    0.003 /Users/xavier/xastropy/xastropy/spec/abs_line.py:89(abs_line_data)\n",
      "      169    0.000    0.000    8.074    0.048 /Users/xavier/xastropy/xastropy/igm/abs_sys/ionic_clm.py:166(__init__)\n",
      "      169    0.042    0.000    8.073    0.048 /Users/xavier/xastropy/xastropy/igm/abs_sys/ionic_clm.py:173(read_clmfil)\n",
      "     3126    0.004    0.000    7.983    0.003 /Users/xavier/xastropy/xastropy/spec/analysis.py:38(__init__)\n",
      "     3126    0.046    0.000    7.979    0.003 /Users/xavier/xastropy/xastropy/spec/analysis.py:47(fill)\n",
      "    59250    0.160    0.000    7.564    0.000 /Users/xavier/local/Python/astropy/astropy/table/column.py:340(__array_finalize__)\n",
      "    59250    0.283    0.000    7.366    0.000 /Users/xavier/local/Python/astropy/astropy/table/column.py:690(_copy_attrs)\n",
      "357857/123416    0.957    0.000    6.603    0.000 /Users/xavier/anaconda/lib/python2.7/copy.py:145(deepcopy)\n",
      "15643/15445    0.038    0.000    6.360    0.000 /Users/xavier/local/Python/astropy/astropy/table/table.py:838(__getitem__)\n",
      "     3361    0.097    0.000    6.089    0.002 /Users/xavier/local/Python/astropy/astropy/table/table.py:536(_new_from_slice)\n",
      "   105632    0.307    0.000    5.227    0.000 /Users/xavier/local/Python/astropy/astropy/table/column.py:326(__getitem__)\n",
      "   117206    0.447    0.000    3.591    0.000 /Users/xavier/anaconda/lib/python2.7/copy.py:306(_reconstruct)\n",
      "   268616    1.160    0.000    3.543    0.000 /Users/xavier/anaconda/lib/python2.7/collections.py:38(__init__)\n",
      "        1    0.000    0.000    3.492    3.492 lls_utils.py:321(__init__)\n",
      "        1    0.001    0.001    3.492    3.492 /Users/xavier/xastropy/xastropy/igm/abs_sys/abs_survey.py:42(__init__)\n",
      "      165    0.001    0.000    3.482    0.021 /Users/xavier/xastropy/xastropy/igm/abs_sys/lls_utils.py:50(__init__)\n",
      "    65886    0.131    0.000    3.458    0.000 /Users/xavier/local/Python/astropy/astropy/utils/metadata.py:127(__set__)\n",
      "      502    0.015    0.000    2.759    0.005 /Users/xavier/local/Python/astropy/astropy/coordinates/sky_coordinate.py:147(__init__)\n",
      "      169    0.003    0.000    2.630    0.016 /Users/xavier/xastropy/xastropy/igm/abs_sys/ionic_clm.py:66(__init__)\n",
      "      165    0.012    0.000    2.611    0.016 /Users/xavier/xastropy/xastropy/igm/abs_sys/lls_utils.py:70(parse_dat_file)\n",
      "   117206    0.171    0.000    2.254    0.000 {method '__reduce_ex__' of 'object' objects}\n",
      "      169    0.003    0.000    2.226    0.013 /Users/xavier/xastropy/xastropy/igm/abs_sys/ionic_clm.py:118(read_ion_file)\n",
      "   117122    0.476    0.000    2.083    0.000 /Users/xavier/anaconda/lib/python2.7/collections.py:177(__reduce__)\n",
      "   271978    0.640    0.000    1.985    0.000 /Users/xavier/anaconda/lib/python2.7/_abcoll.py:545(update)\n",
      "      336    0.003    0.000    1.871    0.006 /Users/xavier/xastropy/xastropy/igm/abs_sys/abssys_utils.py:51(__init__)\n",
      "      166    0.024    0.000    1.673    0.010 /Users/xavier/xastropy/xastropy/igm/abs_sys/abssys_utils.py:96(parse_dat_file)\n",
      "\n",
      "\n"
     ]
    },
    {
     "data": {
      "text/plain": [
       "<pstats.Stats instance at 0x11813d998>"
      ]
     },
     "execution_count": 19,
     "metadata": {},
     "output_type": "execute_result"
    }
   ],
   "source": [
    "p.sort_stats('cumulative').print_stats(30)"
   ]
  },
  {
   "cell_type": "code",
   "execution_count": null,
   "metadata": {
    "collapsed": true
   },
   "outputs": [],
   "source": []
  }
 ],
 "metadata": {
  "kernelspec": {
   "display_name": "Python 2",
   "language": "python",
   "name": "python2"
  },
  "language_info": {
   "codemirror_mode": {
    "name": "ipython",
    "version": 2
   },
   "file_extension": ".py",
   "mimetype": "text/x-python",
   "name": "python",
   "nbconvert_exporter": "python",
   "pygments_lexer": "ipython2",
   "version": "2.7.9"
  }
 },
 "nbformat": 4,
 "nbformat_minor": 0
}
